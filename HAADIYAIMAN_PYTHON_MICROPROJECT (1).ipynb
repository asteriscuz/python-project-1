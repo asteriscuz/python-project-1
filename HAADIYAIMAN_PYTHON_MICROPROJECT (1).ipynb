{
 "cells": [
  {
   "cell_type": "code",
   "execution_count": 4,
   "id": "9ead1567",
   "metadata": {},
   "outputs": [],
   "source": [
    "import pandas as pd"
   ]
  },
  {
   "cell_type": "code",
   "execution_count": 5,
   "id": "f9a516b5",
   "metadata": {},
   "outputs": [],
   "source": [
    "data=pd.read_csv('terror.csv',encoding='latin-1')"
   ]
  },
  {
   "cell_type": "code",
   "execution_count": 6,
   "id": "7b063496",
   "metadata": {},
   "outputs": [],
   "source": [
    "## Q.1) How many attacks happened in India?"
   ]
  },
  {
   "cell_type": "code",
   "execution_count": 70,
   "id": "94f0037a",
   "metadata": {},
   "outputs": [],
   "source": [
    "id=data['country_txt']=='India'"
   ]
  },
  {
   "cell_type": "code",
   "execution_count": 71,
   "id": "b23c8eb0",
   "metadata": {},
   "outputs": [
    {
     "data": {
      "text/plain": [
       "9940"
      ]
     },
     "execution_count": 71,
     "metadata": {},
     "output_type": "execute_result"
    }
   ],
   "source": [
    "data[id].shape[0]"
   ]
  },
  {
   "cell_type": "code",
   "execution_count": 9,
   "id": "9bf39109",
   "metadata": {},
   "outputs": [],
   "source": [
    "## Q.2) How many attacks happened in India and upto 3 people were killed?"
   ]
  },
  {
   "cell_type": "code",
   "execution_count": 85,
   "id": "e16108e7",
   "metadata": {},
   "outputs": [
    {
     "data": {
      "text/plain": [
       "241"
      ]
     },
     "execution_count": 85,
     "metadata": {},
     "output_type": "execute_result"
    }
   ],
   "source": [
    "req_data=(data['country_txt']=='India') & (data['nkill']==5)\n",
    "data[req_data].shape[0]"
   ]
  },
  {
   "cell_type": "code",
   "execution_count": 11,
   "id": "e8ced89b",
   "metadata": {},
   "outputs": [],
   "source": [
    "## Q.3) Extract the city and summary for attacks above"
   ]
  },
  {
   "cell_type": "code",
   "execution_count": 12,
   "id": "8d368c7f",
   "metadata": {
    "scrolled": true
   },
   "outputs": [
    {
     "data": {
      "text/html": [
       "<div>\n",
       "<style scoped>\n",
       "    .dataframe tbody tr th:only-of-type {\n",
       "        vertical-align: middle;\n",
       "    }\n",
       "\n",
       "    .dataframe tbody tr th {\n",
       "        vertical-align: top;\n",
       "    }\n",
       "\n",
       "    .dataframe thead th {\n",
       "        text-align: right;\n",
       "    }\n",
       "</style>\n",
       "<table border=\"1\" class=\"dataframe\">\n",
       "  <thead>\n",
       "    <tr style=\"text-align: right;\">\n",
       "      <th></th>\n",
       "      <th>city</th>\n",
       "      <th>summary</th>\n",
       "    </tr>\n",
       "  </thead>\n",
       "  <tbody>\n",
       "    <tr>\n",
       "      <th>1185</th>\n",
       "      <td>New Delhi</td>\n",
       "      <td>NaN</td>\n",
       "    </tr>\n",
       "    <tr>\n",
       "      <th>3780</th>\n",
       "      <td>New Delhi</td>\n",
       "      <td>NaN</td>\n",
       "    </tr>\n",
       "    <tr>\n",
       "      <th>5251</th>\n",
       "      <td>Bombay</td>\n",
       "      <td>NaN</td>\n",
       "    </tr>\n",
       "    <tr>\n",
       "      <th>7266</th>\n",
       "      <td>Imphal</td>\n",
       "      <td>NaN</td>\n",
       "    </tr>\n",
       "    <tr>\n",
       "      <th>8609</th>\n",
       "      <td>Unknown</td>\n",
       "      <td>NaN</td>\n",
       "    </tr>\n",
       "    <tr>\n",
       "      <th>...</th>\n",
       "      <td>...</td>\n",
       "      <td>...</td>\n",
       "    </tr>\n",
       "    <tr>\n",
       "      <th>156695</th>\n",
       "      <td>Terem</td>\n",
       "      <td>12/29/2015: Assailants abducted three students...</td>\n",
       "    </tr>\n",
       "    <tr>\n",
       "      <th>156698</th>\n",
       "      <td>Peravurani</td>\n",
       "      <td>12/29/2015: An explosive device was discovered...</td>\n",
       "    </tr>\n",
       "    <tr>\n",
       "      <th>156713</th>\n",
       "      <td>Tulsibari</td>\n",
       "      <td>12/29/2015: Assailants abducted Hazrat Ali in ...</td>\n",
       "    </tr>\n",
       "    <tr>\n",
       "      <th>156725</th>\n",
       "      <td>Zhutovi</td>\n",
       "      <td>12/30/2015: Assailants attempted to extort mon...</td>\n",
       "    </tr>\n",
       "    <tr>\n",
       "      <th>156756</th>\n",
       "      <td>Srinagar</td>\n",
       "      <td>12/31/2015: Assailants threw a grenade at an I...</td>\n",
       "    </tr>\n",
       "  </tbody>\n",
       "</table>\n",
       "<p>8362 rows × 2 columns</p>\n",
       "</div>"
      ],
      "text/plain": [
       "              city                                            summary\n",
       "1185     New Delhi                                                NaN\n",
       "3780     New Delhi                                                NaN\n",
       "5251        Bombay                                                NaN\n",
       "7266        Imphal                                                NaN\n",
       "8609       Unknown                                                NaN\n",
       "...            ...                                                ...\n",
       "156695       Terem  12/29/2015: Assailants abducted three students...\n",
       "156698  Peravurani  12/29/2015: An explosive device was discovered...\n",
       "156713   Tulsibari  12/29/2015: Assailants abducted Hazrat Ali in ...\n",
       "156725     Zhutovi  12/30/2015: Assailants attempted to extort mon...\n",
       "156756    Srinagar  12/31/2015: Assailants threw a grenade at an I...\n",
       "\n",
       "[8362 rows x 2 columns]"
      ]
     },
     "execution_count": 12,
     "metadata": {},
     "output_type": "execute_result"
    }
   ],
   "source": [
    "data[req_data][['city','summary']]"
   ]
  },
  {
   "cell_type": "code",
   "execution_count": 13,
   "id": "2d2e3ef7",
   "metadata": {},
   "outputs": [],
   "source": [
    "## Q.4) In a single terror incident in India, find out top 5 cities by number killed"
   ]
  },
  {
   "cell_type": "code",
   "execution_count": 14,
   "id": "f7fbd160",
   "metadata": {},
   "outputs": [],
   "source": [
    "\n",
    "required_data=data[id].groupby('city').agg({'nkill':'max'})"
   ]
  },
  {
   "cell_type": "code",
   "execution_count": 15,
   "id": "46345a2a",
   "metadata": {},
   "outputs": [
    {
     "data": {
      "text/html": [
       "<div>\n",
       "<style scoped>\n",
       "    .dataframe tbody tr th:only-of-type {\n",
       "        vertical-align: middle;\n",
       "    }\n",
       "\n",
       "    .dataframe tbody tr th {\n",
       "        vertical-align: top;\n",
       "    }\n",
       "\n",
       "    .dataframe thead th {\n",
       "        text-align: right;\n",
       "    }\n",
       "</style>\n",
       "<table border=\"1\" class=\"dataframe\">\n",
       "  <thead>\n",
       "    <tr style=\"text-align: right;\">\n",
       "      <th></th>\n",
       "      <th>nkill</th>\n",
       "    </tr>\n",
       "    <tr>\n",
       "      <th>city</th>\n",
       "      <th></th>\n",
       "    </tr>\n",
       "  </thead>\n",
       "  <tbody>\n",
       "    <tr>\n",
       "      <th>Mumbai</th>\n",
       "      <td>188.0</td>\n",
       "    </tr>\n",
       "    <tr>\n",
       "      <th>Jhargam</th>\n",
       "      <td>115.0</td>\n",
       "    </tr>\n",
       "    <tr>\n",
       "      <th>Bombay</th>\n",
       "      <td>115.0</td>\n",
       "    </tr>\n",
       "    <tr>\n",
       "      <th>Dantewada district</th>\n",
       "      <td>82.0</td>\n",
       "    </tr>\n",
       "    <tr>\n",
       "      <th>Banabari</th>\n",
       "      <td>70.0</td>\n",
       "    </tr>\n",
       "  </tbody>\n",
       "</table>\n",
       "</div>"
      ],
      "text/plain": [
       "                    nkill\n",
       "city                     \n",
       "Mumbai              188.0\n",
       "Jhargam             115.0\n",
       "Bombay              115.0\n",
       "Dantewada district   82.0\n",
       "Banabari             70.0"
      ]
     },
     "execution_count": 15,
     "metadata": {},
     "output_type": "execute_result"
    }
   ],
   "source": [
    "required_data.sort_values('nkill',ascending=False).head(5)"
   ]
  },
  {
   "cell_type": "code",
   "execution_count": 16,
   "id": "801c1599",
   "metadata": {},
   "outputs": [],
   "source": [
    "## Q.5) In a single terror incident in India, find out top 5 cities by number killed and wounded"
   ]
  },
  {
   "cell_type": "code",
   "execution_count": 94,
   "id": "29b9459a",
   "metadata": {},
   "outputs": [],
   "source": [
    "id=data['country_txt']=='India'"
   ]
  },
  {
   "cell_type": "code",
   "execution_count": 95,
   "id": "ae1a2146",
   "metadata": {},
   "outputs": [],
   "source": [
    "required_data2=data[id].groupby('city').agg({'nkill':'max','nwound':'max'})"
   ]
  },
  {
   "cell_type": "code",
   "execution_count": 96,
   "id": "dfe89ead",
   "metadata": {
    "scrolled": true
   },
   "outputs": [
    {
     "data": {
      "text/html": [
       "<div>\n",
       "<style scoped>\n",
       "    .dataframe tbody tr th:only-of-type {\n",
       "        vertical-align: middle;\n",
       "    }\n",
       "\n",
       "    .dataframe tbody tr th {\n",
       "        vertical-align: top;\n",
       "    }\n",
       "\n",
       "    .dataframe thead th {\n",
       "        text-align: right;\n",
       "    }\n",
       "</style>\n",
       "<table border=\"1\" class=\"dataframe\">\n",
       "  <thead>\n",
       "    <tr style=\"text-align: right;\">\n",
       "      <th></th>\n",
       "      <th>nkill</th>\n",
       "      <th>nwound</th>\n",
       "    </tr>\n",
       "    <tr>\n",
       "      <th>city</th>\n",
       "      <th></th>\n",
       "      <th></th>\n",
       "    </tr>\n",
       "  </thead>\n",
       "  <tbody>\n",
       "    <tr>\n",
       "      <th>Mumbai</th>\n",
       "      <td>188.0</td>\n",
       "      <td>817.0</td>\n",
       "    </tr>\n",
       "    <tr>\n",
       "      <th>Jhargam</th>\n",
       "      <td>115.0</td>\n",
       "      <td>140.0</td>\n",
       "    </tr>\n",
       "    <tr>\n",
       "      <th>Bombay</th>\n",
       "      <td>115.0</td>\n",
       "      <td>34.0</td>\n",
       "    </tr>\n",
       "    <tr>\n",
       "      <th>Dantewada district</th>\n",
       "      <td>82.0</td>\n",
       "      <td>25.0</td>\n",
       "    </tr>\n",
       "    <tr>\n",
       "      <th>Banabari</th>\n",
       "      <td>70.0</td>\n",
       "      <td>100.0</td>\n",
       "    </tr>\n",
       "  </tbody>\n",
       "</table>\n",
       "</div>"
      ],
      "text/plain": [
       "                    nkill  nwound\n",
       "city                             \n",
       "Mumbai              188.0   817.0\n",
       "Jhargam             115.0   140.0\n",
       "Bombay              115.0    34.0\n",
       "Dantewada district   82.0    25.0\n",
       "Banabari             70.0   100.0"
      ]
     },
     "execution_count": 96,
     "metadata": {},
     "output_type": "execute_result"
    }
   ],
   "source": [
    "required_data2.sort_values(['nkill','nwound'],ascending=[False,False]).head(5)"
   ]
  },
  {
   "cell_type": "code",
   "execution_count": 19,
   "id": "c5a2316f",
   "metadata": {},
   "outputs": [],
   "source": [
    "## Q.6) How many attacks were successful that were suicide attacks?\n",
    "\n"
   ]
  },
  {
   "cell_type": "code",
   "execution_count": 20,
   "id": "9aa88a55",
   "metadata": {},
   "outputs": [],
   "source": [
    "req_ans=(data['success']==1)&(data['suicide']!=0)"
   ]
  },
  {
   "cell_type": "code",
   "execution_count": 21,
   "id": "72cf4b4d",
   "metadata": {},
   "outputs": [
    {
     "data": {
      "text/html": [
       "<div>\n",
       "<style scoped>\n",
       "    .dataframe tbody tr th:only-of-type {\n",
       "        vertical-align: middle;\n",
       "    }\n",
       "\n",
       "    .dataframe tbody tr th {\n",
       "        vertical-align: top;\n",
       "    }\n",
       "\n",
       "    .dataframe thead th {\n",
       "        text-align: right;\n",
       "    }\n",
       "</style>\n",
       "<table border=\"1\" class=\"dataframe\">\n",
       "  <thead>\n",
       "    <tr style=\"text-align: right;\">\n",
       "      <th></th>\n",
       "      <th>eventid</th>\n",
       "      <th>iyear</th>\n",
       "      <th>imonth</th>\n",
       "      <th>iday</th>\n",
       "      <th>country_txt</th>\n",
       "      <th>region_txt</th>\n",
       "      <th>provstate</th>\n",
       "      <th>city</th>\n",
       "      <th>location</th>\n",
       "      <th>summary</th>\n",
       "      <th>success</th>\n",
       "      <th>suicide</th>\n",
       "      <th>nkill</th>\n",
       "      <th>nwound</th>\n",
       "    </tr>\n",
       "  </thead>\n",
       "  <tbody>\n",
       "    <tr>\n",
       "      <th>14954</th>\n",
       "      <td>1.980000e+11</td>\n",
       "      <td>1981</td>\n",
       "      <td>12</td>\n",
       "      <td>15</td>\n",
       "      <td>Lebanon</td>\n",
       "      <td>Middle East &amp; North Africa</td>\n",
       "      <td>Beirut</td>\n",
       "      <td>Beirut</td>\n",
       "      <td>NaN</td>\n",
       "      <td>NaN</td>\n",
       "      <td>1</td>\n",
       "      <td>1</td>\n",
       "      <td>66.0</td>\n",
       "      <td>100.0</td>\n",
       "    </tr>\n",
       "    <tr>\n",
       "      <th>17351</th>\n",
       "      <td>1.980000e+11</td>\n",
       "      <td>1982</td>\n",
       "      <td>11</td>\n",
       "      <td>11</td>\n",
       "      <td>Lebanon</td>\n",
       "      <td>Middle East &amp; North Africa</td>\n",
       "      <td>South</td>\n",
       "      <td>Tyre district</td>\n",
       "      <td>An Israeli military headquarters located on th...</td>\n",
       "      <td>11/11/1982: A suspected suicide car bomb deton...</td>\n",
       "      <td>1</td>\n",
       "      <td>1</td>\n",
       "      <td>89.0</td>\n",
       "      <td>NaN</td>\n",
       "    </tr>\n",
       "    <tr>\n",
       "      <th>18496</th>\n",
       "      <td>1.980000e+11</td>\n",
       "      <td>1983</td>\n",
       "      <td>4</td>\n",
       "      <td>18</td>\n",
       "      <td>Lebanon</td>\n",
       "      <td>Middle East &amp; North Africa</td>\n",
       "      <td>Beirut</td>\n",
       "      <td>Beirut</td>\n",
       "      <td>NaN</td>\n",
       "      <td>NaN</td>\n",
       "      <td>1</td>\n",
       "      <td>1</td>\n",
       "      <td>63.0</td>\n",
       "      <td>120.0</td>\n",
       "    </tr>\n",
       "    <tr>\n",
       "      <th>19999</th>\n",
       "      <td>1.980000e+11</td>\n",
       "      <td>1983</td>\n",
       "      <td>10</td>\n",
       "      <td>23</td>\n",
       "      <td>Lebanon</td>\n",
       "      <td>Middle East &amp; North Africa</td>\n",
       "      <td>Beirut</td>\n",
       "      <td>Beirut</td>\n",
       "      <td>NaN</td>\n",
       "      <td>NaN</td>\n",
       "      <td>1</td>\n",
       "      <td>1</td>\n",
       "      <td>241.0</td>\n",
       "      <td>75.0</td>\n",
       "    </tr>\n",
       "    <tr>\n",
       "      <th>20000</th>\n",
       "      <td>1.980000e+11</td>\n",
       "      <td>1983</td>\n",
       "      <td>10</td>\n",
       "      <td>23</td>\n",
       "      <td>Lebanon</td>\n",
       "      <td>Middle East &amp; North Africa</td>\n",
       "      <td>Beirut</td>\n",
       "      <td>Beirut</td>\n",
       "      <td>NaN</td>\n",
       "      <td>NaN</td>\n",
       "      <td>1</td>\n",
       "      <td>1</td>\n",
       "      <td>58.0</td>\n",
       "      <td>0.0</td>\n",
       "    </tr>\n",
       "  </tbody>\n",
       "</table>\n",
       "</div>"
      ],
      "text/plain": [
       "            eventid  iyear  imonth  iday country_txt  \\\n",
       "14954  1.980000e+11   1981      12    15     Lebanon   \n",
       "17351  1.980000e+11   1982      11    11     Lebanon   \n",
       "18496  1.980000e+11   1983       4    18     Lebanon   \n",
       "19999  1.980000e+11   1983      10    23     Lebanon   \n",
       "20000  1.980000e+11   1983      10    23     Lebanon   \n",
       "\n",
       "                       region_txt provstate           city  \\\n",
       "14954  Middle East & North Africa    Beirut         Beirut   \n",
       "17351  Middle East & North Africa     South  Tyre district   \n",
       "18496  Middle East & North Africa    Beirut         Beirut   \n",
       "19999  Middle East & North Africa    Beirut         Beirut   \n",
       "20000  Middle East & North Africa    Beirut         Beirut   \n",
       "\n",
       "                                                location  \\\n",
       "14954                                                NaN   \n",
       "17351  An Israeli military headquarters located on th...   \n",
       "18496                                                NaN   \n",
       "19999                                                NaN   \n",
       "20000                                                NaN   \n",
       "\n",
       "                                                 summary  success  suicide  \\\n",
       "14954                                                NaN        1        1   \n",
       "17351  11/11/1982: A suspected suicide car bomb deton...        1        1   \n",
       "18496                                                NaN        1        1   \n",
       "19999                                                NaN        1        1   \n",
       "20000                                                NaN        1        1   \n",
       "\n",
       "       nkill  nwound  \n",
       "14954   66.0   100.0  \n",
       "17351   89.0     NaN  \n",
       "18496   63.0   120.0  \n",
       "19999  241.0    75.0  \n",
       "20000   58.0     0.0  "
      ]
     },
     "execution_count": 21,
     "metadata": {},
     "output_type": "execute_result"
    }
   ],
   "source": [
    "data[req_ans].head()"
   ]
  },
  {
   "cell_type": "code",
   "execution_count": 22,
   "id": "58e6f5ea",
   "metadata": {},
   "outputs": [],
   "source": [
    "## Q.7) Label all the incidents where the number killed was more than 5 as severe."
   ]
  },
  {
   "cell_type": "code",
   "execution_count": 23,
   "id": "a1a11723",
   "metadata": {},
   "outputs": [],
   "source": [
    "def fun(nkill):\n",
    "    if nkill > 5:\n",
    "        return 'Severe'\n",
    "    else:\n",
    "        return 'Not Severe'\n",
    "\n",
    "\n"
   ]
  },
  {
   "cell_type": "code",
   "execution_count": 24,
   "id": "ffce5dbf",
   "metadata": {},
   "outputs": [],
   "source": [
    "data['severity'] = data['nkill'].map(fun)"
   ]
  },
  {
   "cell_type": "code",
   "execution_count": 25,
   "id": "b90aa20b",
   "metadata": {},
   "outputs": [
    {
     "data": {
      "text/html": [
       "<div>\n",
       "<style scoped>\n",
       "    .dataframe tbody tr th:only-of-type {\n",
       "        vertical-align: middle;\n",
       "    }\n",
       "\n",
       "    .dataframe tbody tr th {\n",
       "        vertical-align: top;\n",
       "    }\n",
       "\n",
       "    .dataframe thead th {\n",
       "        text-align: right;\n",
       "    }\n",
       "</style>\n",
       "<table border=\"1\" class=\"dataframe\">\n",
       "  <thead>\n",
       "    <tr style=\"text-align: right;\">\n",
       "      <th></th>\n",
       "      <th>eventid</th>\n",
       "      <th>iyear</th>\n",
       "      <th>imonth</th>\n",
       "      <th>iday</th>\n",
       "      <th>country_txt</th>\n",
       "      <th>region_txt</th>\n",
       "      <th>provstate</th>\n",
       "      <th>city</th>\n",
       "      <th>location</th>\n",
       "      <th>summary</th>\n",
       "      <th>success</th>\n",
       "      <th>suicide</th>\n",
       "      <th>nkill</th>\n",
       "      <th>nwound</th>\n",
       "      <th>severity</th>\n",
       "    </tr>\n",
       "  </thead>\n",
       "  <tbody>\n",
       "    <tr>\n",
       "      <th>0</th>\n",
       "      <td>1.970000e+11</td>\n",
       "      <td>1970</td>\n",
       "      <td>0</td>\n",
       "      <td>0</td>\n",
       "      <td>Dominican Republic</td>\n",
       "      <td>Central America &amp; Caribbean</td>\n",
       "      <td>NaN</td>\n",
       "      <td>Santo Domingo</td>\n",
       "      <td>NaN</td>\n",
       "      <td>NaN</td>\n",
       "      <td>1</td>\n",
       "      <td>0</td>\n",
       "      <td>1.0</td>\n",
       "      <td>0.0</td>\n",
       "      <td>Not Severe</td>\n",
       "    </tr>\n",
       "    <tr>\n",
       "      <th>1</th>\n",
       "      <td>1.970000e+11</td>\n",
       "      <td>1970</td>\n",
       "      <td>0</td>\n",
       "      <td>0</td>\n",
       "      <td>Mexico</td>\n",
       "      <td>North America</td>\n",
       "      <td>NaN</td>\n",
       "      <td>Mexico city</td>\n",
       "      <td>NaN</td>\n",
       "      <td>NaN</td>\n",
       "      <td>1</td>\n",
       "      <td>0</td>\n",
       "      <td>0.0</td>\n",
       "      <td>0.0</td>\n",
       "      <td>Not Severe</td>\n",
       "    </tr>\n",
       "  </tbody>\n",
       "</table>\n",
       "</div>"
      ],
      "text/plain": [
       "        eventid  iyear  imonth  iday         country_txt  \\\n",
       "0  1.970000e+11   1970       0     0  Dominican Republic   \n",
       "1  1.970000e+11   1970       0     0              Mexico   \n",
       "\n",
       "                    region_txt provstate           city location summary  \\\n",
       "0  Central America & Caribbean       NaN  Santo Domingo      NaN     NaN   \n",
       "1                North America       NaN    Mexico city      NaN     NaN   \n",
       "\n",
       "   success  suicide  nkill  nwound    severity  \n",
       "0        1        0    1.0     0.0  Not Severe  \n",
       "1        1        0    0.0     0.0  Not Severe  "
      ]
     },
     "execution_count": 25,
     "metadata": {},
     "output_type": "execute_result"
    }
   ],
   "source": [
    "data.head(2)"
   ]
  },
  {
   "cell_type": "code",
   "execution_count": 26,
   "id": "26511463",
   "metadata": {},
   "outputs": [
    {
     "data": {
      "text/plain": [
       "array(['Not Severe', 'Severe'], dtype=object)"
      ]
     },
     "execution_count": 26,
     "metadata": {},
     "output_type": "execute_result"
    }
   ],
   "source": [
    "data['severity'].unique()"
   ]
  },
  {
   "cell_type": "code",
   "execution_count": 27,
   "id": "a39daf11",
   "metadata": {},
   "outputs": [],
   "source": [
    "## Q.8) write a function to label an incident that was both successful and suicidal"
   ]
  },
  {
   "cell_type": "code",
   "execution_count": 28,
   "id": "a4ab4d98",
   "metadata": {},
   "outputs": [],
   "source": [
    "def successful_and_suicidal(value):\n",
    "    if value['success'] == 1 and value['suicide'] == 1:\n",
    "        return 'successful and suicidal'\n",
    "    else:\n",
    "        return 'other'\n",
    "data['label'] = data.apply(successful_and_suicidal, axis=1)"
   ]
  },
  {
   "cell_type": "code",
   "execution_count": 29,
   "id": "a3d8d361",
   "metadata": {
    "scrolled": true
   },
   "outputs": [
    {
     "data": {
      "text/html": [
       "<div>\n",
       "<style scoped>\n",
       "    .dataframe tbody tr th:only-of-type {\n",
       "        vertical-align: middle;\n",
       "    }\n",
       "\n",
       "    .dataframe tbody tr th {\n",
       "        vertical-align: top;\n",
       "    }\n",
       "\n",
       "    .dataframe thead th {\n",
       "        text-align: right;\n",
       "    }\n",
       "</style>\n",
       "<table border=\"1\" class=\"dataframe\">\n",
       "  <thead>\n",
       "    <tr style=\"text-align: right;\">\n",
       "      <th></th>\n",
       "      <th>eventid</th>\n",
       "      <th>iyear</th>\n",
       "      <th>imonth</th>\n",
       "      <th>iday</th>\n",
       "      <th>country_txt</th>\n",
       "      <th>region_txt</th>\n",
       "      <th>provstate</th>\n",
       "      <th>city</th>\n",
       "      <th>location</th>\n",
       "      <th>summary</th>\n",
       "      <th>success</th>\n",
       "      <th>suicide</th>\n",
       "      <th>nkill</th>\n",
       "      <th>nwound</th>\n",
       "      <th>severity</th>\n",
       "      <th>label</th>\n",
       "    </tr>\n",
       "  </thead>\n",
       "  <tbody>\n",
       "    <tr>\n",
       "      <th>0</th>\n",
       "      <td>1.970000e+11</td>\n",
       "      <td>1970</td>\n",
       "      <td>0</td>\n",
       "      <td>0</td>\n",
       "      <td>Dominican Republic</td>\n",
       "      <td>Central America &amp; Caribbean</td>\n",
       "      <td>NaN</td>\n",
       "      <td>Santo Domingo</td>\n",
       "      <td>NaN</td>\n",
       "      <td>NaN</td>\n",
       "      <td>1</td>\n",
       "      <td>0</td>\n",
       "      <td>1.0</td>\n",
       "      <td>0.0</td>\n",
       "      <td>Not Severe</td>\n",
       "      <td>other</td>\n",
       "    </tr>\n",
       "    <tr>\n",
       "      <th>1</th>\n",
       "      <td>1.970000e+11</td>\n",
       "      <td>1970</td>\n",
       "      <td>0</td>\n",
       "      <td>0</td>\n",
       "      <td>Mexico</td>\n",
       "      <td>North America</td>\n",
       "      <td>NaN</td>\n",
       "      <td>Mexico city</td>\n",
       "      <td>NaN</td>\n",
       "      <td>NaN</td>\n",
       "      <td>1</td>\n",
       "      <td>0</td>\n",
       "      <td>0.0</td>\n",
       "      <td>0.0</td>\n",
       "      <td>Not Severe</td>\n",
       "      <td>other</td>\n",
       "    </tr>\n",
       "  </tbody>\n",
       "</table>\n",
       "</div>"
      ],
      "text/plain": [
       "        eventid  iyear  imonth  iday         country_txt  \\\n",
       "0  1.970000e+11   1970       0     0  Dominican Republic   \n",
       "1  1.970000e+11   1970       0     0              Mexico   \n",
       "\n",
       "                    region_txt provstate           city location summary  \\\n",
       "0  Central America & Caribbean       NaN  Santo Domingo      NaN     NaN   \n",
       "1                North America       NaN    Mexico city      NaN     NaN   \n",
       "\n",
       "   success  suicide  nkill  nwound    severity  label  \n",
       "0        1        0    1.0     0.0  Not Severe  other  \n",
       "1        1        0    0.0     0.0  Not Severe  other  "
      ]
     },
     "execution_count": 29,
     "metadata": {},
     "output_type": "execute_result"
    }
   ],
   "source": [
    "data.head(2)"
   ]
  },
  {
   "cell_type": "code",
   "execution_count": 30,
   "id": "a480324e",
   "metadata": {},
   "outputs": [],
   "source": [
    "## Q.9) Create a new category representing if the incident occurred in Afghanistan, Pakistan or India as one level of the category and all the other countries as another level. Label all other countries as ROW and new column which contains the new category as ‘Local’ in the data."
   ]
  },
  {
   "cell_type": "code",
   "execution_count": 31,
   "id": "20b57b3f",
   "metadata": {},
   "outputs": [],
   "source": [
    "def local_or_not(country):\n",
    "    if country['country_txt']=='Afghanistan' or country['country_txt']=='India' or country['country_txt']=='Pakistan':\n",
    "        return 'local'\n",
    "    else:\n",
    "        return 'row'\n",
    "data['local']=data.apply(local_or_not,axis=1)"
   ]
  },
  {
   "cell_type": "code",
   "execution_count": 32,
   "id": "bed09564",
   "metadata": {},
   "outputs": [
    {
     "data": {
      "text/html": [
       "<div>\n",
       "<style scoped>\n",
       "    .dataframe tbody tr th:only-of-type {\n",
       "        vertical-align: middle;\n",
       "    }\n",
       "\n",
       "    .dataframe tbody tr th {\n",
       "        vertical-align: top;\n",
       "    }\n",
       "\n",
       "    .dataframe thead th {\n",
       "        text-align: right;\n",
       "    }\n",
       "</style>\n",
       "<table border=\"1\" class=\"dataframe\">\n",
       "  <thead>\n",
       "    <tr style=\"text-align: right;\">\n",
       "      <th></th>\n",
       "      <th>eventid</th>\n",
       "      <th>iyear</th>\n",
       "      <th>imonth</th>\n",
       "      <th>iday</th>\n",
       "      <th>country_txt</th>\n",
       "      <th>region_txt</th>\n",
       "      <th>provstate</th>\n",
       "      <th>city</th>\n",
       "      <th>location</th>\n",
       "      <th>summary</th>\n",
       "      <th>success</th>\n",
       "      <th>suicide</th>\n",
       "      <th>nkill</th>\n",
       "      <th>nwound</th>\n",
       "      <th>severity</th>\n",
       "      <th>label</th>\n",
       "      <th>local</th>\n",
       "    </tr>\n",
       "  </thead>\n",
       "  <tbody>\n",
       "    <tr>\n",
       "      <th>0</th>\n",
       "      <td>1.970000e+11</td>\n",
       "      <td>1970</td>\n",
       "      <td>0</td>\n",
       "      <td>0</td>\n",
       "      <td>Dominican Republic</td>\n",
       "      <td>Central America &amp; Caribbean</td>\n",
       "      <td>NaN</td>\n",
       "      <td>Santo Domingo</td>\n",
       "      <td>NaN</td>\n",
       "      <td>NaN</td>\n",
       "      <td>1</td>\n",
       "      <td>0</td>\n",
       "      <td>1.0</td>\n",
       "      <td>0.0</td>\n",
       "      <td>Not Severe</td>\n",
       "      <td>other</td>\n",
       "      <td>row</td>\n",
       "    </tr>\n",
       "    <tr>\n",
       "      <th>1</th>\n",
       "      <td>1.970000e+11</td>\n",
       "      <td>1970</td>\n",
       "      <td>0</td>\n",
       "      <td>0</td>\n",
       "      <td>Mexico</td>\n",
       "      <td>North America</td>\n",
       "      <td>NaN</td>\n",
       "      <td>Mexico city</td>\n",
       "      <td>NaN</td>\n",
       "      <td>NaN</td>\n",
       "      <td>1</td>\n",
       "      <td>0</td>\n",
       "      <td>0.0</td>\n",
       "      <td>0.0</td>\n",
       "      <td>Not Severe</td>\n",
       "      <td>other</td>\n",
       "      <td>row</td>\n",
       "    </tr>\n",
       "  </tbody>\n",
       "</table>\n",
       "</div>"
      ],
      "text/plain": [
       "        eventid  iyear  imonth  iday         country_txt  \\\n",
       "0  1.970000e+11   1970       0     0  Dominican Republic   \n",
       "1  1.970000e+11   1970       0     0              Mexico   \n",
       "\n",
       "                    region_txt provstate           city location summary  \\\n",
       "0  Central America & Caribbean       NaN  Santo Domingo      NaN     NaN   \n",
       "1                North America       NaN    Mexico city      NaN     NaN   \n",
       "\n",
       "   success  suicide  nkill  nwound    severity  label local  \n",
       "0        1        0    1.0     0.0  Not Severe  other   row  \n",
       "1        1        0    0.0     0.0  Not Severe  other   row  "
      ]
     },
     "execution_count": 32,
     "metadata": {},
     "output_type": "execute_result"
    }
   ],
   "source": [
    "data.head(2)"
   ]
  },
  {
   "cell_type": "code",
   "execution_count": 33,
   "id": "eb4caf64",
   "metadata": {},
   "outputs": [],
   "source": [
    "## Q.10) How many incidents happened in Af-Pak-India vs ROW?"
   ]
  },
  {
   "cell_type": "code",
   "execution_count": 34,
   "id": "cde9fdd2",
   "metadata": {},
   "outputs": [],
   "source": [
    "local_data=data['local']=='local'"
   ]
  },
  {
   "cell_type": "code",
   "execution_count": 35,
   "id": "9b4f49d0",
   "metadata": {},
   "outputs": [
    {
     "data": {
      "text/plain": [
       "32398"
      ]
     },
     "execution_count": 35,
     "metadata": {},
     "output_type": "execute_result"
    }
   ],
   "source": [
    "data[local_data].shape[0]"
   ]
  },
  {
   "cell_type": "code",
   "execution_count": 36,
   "id": "650b9723",
   "metadata": {},
   "outputs": [],
   "source": [
    "row_data=data['local']=='row'"
   ]
  },
  {
   "cell_type": "code",
   "execution_count": 37,
   "id": "b03999dc",
   "metadata": {},
   "outputs": [
    {
     "data": {
      "text/plain": [
       "124374"
      ]
     },
     "execution_count": 37,
     "metadata": {},
     "output_type": "execute_result"
    }
   ],
   "source": [
    "data[row_data].shape[0]"
   ]
  },
  {
   "cell_type": "code",
   "execution_count": null,
   "id": "1309d2fb",
   "metadata": {},
   "outputs": [],
   "source": []
  },
  {
   "cell_type": "code",
   "execution_count": null,
   "id": "b5aa72f5",
   "metadata": {},
   "outputs": [],
   "source": []
  },
  {
   "cell_type": "markdown",
   "id": "db59daf0",
   "metadata": {},
   "source": [
    "##  2nd file: stackoverflow.csv"
   ]
  },
  {
   "cell_type": "code",
   "execution_count": 38,
   "id": "31fc2af9",
   "metadata": {},
   "outputs": [],
   "source": [
    "data2=pd.read_csv('stackoverflow.csv')\n"
   ]
  },
  {
   "cell_type": "code",
   "execution_count": 39,
   "id": "20eef026",
   "metadata": {},
   "outputs": [],
   "source": [
    "## Q1. How many rows and columns are present?"
   ]
  },
  {
   "cell_type": "code",
   "execution_count": 40,
   "id": "a3c29e5c",
   "metadata": {},
   "outputs": [
    {
     "data": {
      "text/plain": [
       "(6991, 23)"
      ]
     },
     "execution_count": 40,
     "metadata": {},
     "output_type": "execute_result"
    }
   ],
   "source": [
    "data2.shape"
   ]
  },
  {
   "cell_type": "code",
   "execution_count": 41,
   "id": "1d9615da",
   "metadata": {},
   "outputs": [],
   "source": [
    "## Q2. How many missing values are present?"
   ]
  },
  {
   "cell_type": "code",
   "execution_count": 42,
   "id": "9e90d99c",
   "metadata": {},
   "outputs": [
    {
     "data": {
      "text/plain": [
       "RespondentID                               0\n",
       "Country                                    0\n",
       "Salary                                     0\n",
       "YearsCodedJob                              0\n",
       "OpenSource                                 0\n",
       "Hobby                                      0\n",
       "CompanySizeNumber                         31\n",
       "Remote                                     0\n",
       "CareerSatisfaction                         0\n",
       "Datascientist                              0\n",
       "Database administrator                     0\n",
       "Desktop applications developer             0\n",
       "Developer with stats/math background       0\n",
       "DevOps                                     0\n",
       "Embedded developer                         0\n",
       "Graphic designer                           0\n",
       "Graphics programming                       0\n",
       "Machine learning specialist                0\n",
       "Mobile developer                           0\n",
       "Quality assurance engineer                 0\n",
       "Systems administrator                      0\n",
       "Web developer                              0\n",
       "                                        6991\n",
       "dtype: int64"
      ]
     },
     "execution_count": 42,
     "metadata": {},
     "output_type": "execute_result"
    }
   ],
   "source": [
    "data2.isnull().sum()"
   ]
  },
  {
   "cell_type": "code",
   "execution_count": 43,
   "id": "d8ca1e88",
   "metadata": {},
   "outputs": [],
   "source": [
    "## Q3. How many unique countries are in the dataframe stackoverflow."
   ]
  },
  {
   "cell_type": "code",
   "execution_count": 44,
   "id": "36d978fd",
   "metadata": {},
   "outputs": [
    {
     "data": {
      "text/plain": [
       "array(['United Kingdom', 'United States', 'Germany', 'India', 'Canada'],\n",
       "      dtype=object)"
      ]
     },
     "execution_count": 44,
     "metadata": {},
     "output_type": "execute_result"
    }
   ],
   "source": [
    "data2['Country'].unique()"
   ]
  },
  {
   "cell_type": "code",
   "execution_count": 45,
   "id": "3b85da0f",
   "metadata": {},
   "outputs": [
    {
     "data": {
      "text/plain": [
       "5"
      ]
     },
     "execution_count": 45,
     "metadata": {},
     "output_type": "execute_result"
    }
   ],
   "source": [
    "data2['Country'].nunique()"
   ]
  },
  {
   "cell_type": "code",
   "execution_count": 46,
   "id": "fbc0bb0d",
   "metadata": {},
   "outputs": [],
   "source": [
    "##Q4. There are ________ Indian Data Scientists present in the data."
   ]
  },
  {
   "cell_type": "code",
   "execution_count": 47,
   "id": "10cb11b7",
   "metadata": {},
   "outputs": [],
   "source": [
    "requ_data=(data2['Country']=='India')&(data2['Datascientist']!=0)"
   ]
  },
  {
   "cell_type": "code",
   "execution_count": 48,
   "id": "1a89d1ea",
   "metadata": {
    "scrolled": true
   },
   "outputs": [
    {
     "data": {
      "text/plain": [
       "5"
      ]
     },
     "execution_count": 48,
     "metadata": {},
     "output_type": "execute_result"
    }
   ],
   "source": [
    "data2[requ_data].head().shape[0]"
   ]
  },
  {
   "cell_type": "code",
   "execution_count": 49,
   "id": "ffd23ea1",
   "metadata": {},
   "outputs": [],
   "source": [
    "##Q5. ______ respondents work remotely in this data."
   ]
  },
  {
   "cell_type": "code",
   "execution_count": 50,
   "id": "692b46c6",
   "metadata": {},
   "outputs": [],
   "source": [
    "req_dat=data2['Remote']=='Remote'"
   ]
  },
  {
   "cell_type": "code",
   "execution_count": 51,
   "id": "489bdc21",
   "metadata": {},
   "outputs": [
    {
     "data": {
      "text/plain": [
       "718"
      ]
     },
     "execution_count": 51,
     "metadata": {},
     "output_type": "execute_result"
    }
   ],
   "source": [
    "data2[req_dat].shape[0]"
   ]
  },
  {
   "cell_type": "code",
   "execution_count": 52,
   "id": "7a1d25fb",
   "metadata": {},
   "outputs": [],
   "source": [
    "## Q6. _______ is the count of Germans who have more than 10 years of coding experience."
   ]
  },
  {
   "cell_type": "code",
   "execution_count": 53,
   "id": "2f0d3acc",
   "metadata": {},
   "outputs": [],
   "source": [
    "req_data=(data2['Country']=='Germany')&(data2['YearsCodedJob']>10)"
   ]
  },
  {
   "cell_type": "code",
   "execution_count": 54,
   "id": "9e6a82ad",
   "metadata": {},
   "outputs": [
    {
     "data": {
      "text/plain": [
       "181"
      ]
     },
     "execution_count": 54,
     "metadata": {},
     "output_type": "execute_result"
    }
   ],
   "source": [
    "data2[req_data].shape[0]"
   ]
  },
  {
   "cell_type": "code",
   "execution_count": 55,
   "id": "826854a6",
   "metadata": {},
   "outputs": [],
   "source": [
    "##Q7. Which Country has maximum average Salary?"
   ]
  },
  {
   "cell_type": "code",
   "execution_count": 56,
   "id": "6895585e",
   "metadata": {},
   "outputs": [],
   "source": [
    "req_data=data2.groupby('Country').agg({'Salary':'mean'})"
   ]
  },
  {
   "cell_type": "code",
   "execution_count": 57,
   "id": "2b3ae965",
   "metadata": {},
   "outputs": [
    {
     "data": {
      "text/html": [
       "<div>\n",
       "<style scoped>\n",
       "    .dataframe tbody tr th:only-of-type {\n",
       "        vertical-align: middle;\n",
       "    }\n",
       "\n",
       "    .dataframe tbody tr th {\n",
       "        vertical-align: top;\n",
       "    }\n",
       "\n",
       "    .dataframe thead th {\n",
       "        text-align: right;\n",
       "    }\n",
       "</style>\n",
       "<table border=\"1\" class=\"dataframe\">\n",
       "  <thead>\n",
       "    <tr style=\"text-align: right;\">\n",
       "      <th></th>\n",
       "      <th>Salary</th>\n",
       "    </tr>\n",
       "    <tr>\n",
       "      <th>Country</th>\n",
       "      <th></th>\n",
       "    </tr>\n",
       "  </thead>\n",
       "  <tbody>\n",
       "    <tr>\n",
       "      <th>Canada</th>\n",
       "      <td>58226.407451</td>\n",
       "    </tr>\n",
       "  </tbody>\n",
       "</table>\n",
       "</div>"
      ],
      "text/plain": [
       "               Salary\n",
       "Country              \n",
       "Canada   58226.407451"
      ]
     },
     "execution_count": 57,
     "metadata": {},
     "output_type": "execute_result"
    }
   ],
   "source": [
    "req_data.head(1)"
   ]
  },
  {
   "cell_type": "code",
   "execution_count": 58,
   "id": "7fd33f90",
   "metadata": {},
   "outputs": [],
   "source": [
    "## Q8. Country ________ has least remote workers"
   ]
  },
  {
   "cell_type": "code",
   "execution_count": 59,
   "id": "e9ffd106",
   "metadata": {},
   "outputs": [
    {
     "data": {
      "text/html": [
       "<div>\n",
       "<style scoped>\n",
       "    .dataframe tbody tr th:only-of-type {\n",
       "        vertical-align: middle;\n",
       "    }\n",
       "\n",
       "    .dataframe tbody tr th {\n",
       "        vertical-align: top;\n",
       "    }\n",
       "\n",
       "    .dataframe thead th {\n",
       "        text-align: right;\n",
       "    }\n",
       "</style>\n",
       "<table border=\"1\" class=\"dataframe\">\n",
       "  <thead>\n",
       "    <tr style=\"text-align: right;\">\n",
       "      <th></th>\n",
       "      <th>Remote</th>\n",
       "    </tr>\n",
       "    <tr>\n",
       "      <th>Country</th>\n",
       "      <th></th>\n",
       "    </tr>\n",
       "  </thead>\n",
       "  <tbody>\n",
       "    <tr>\n",
       "      <th>Canada</th>\n",
       "      <td>619</td>\n",
       "    </tr>\n",
       "  </tbody>\n",
       "</table>\n",
       "</div>"
      ],
      "text/plain": [
       "         Remote\n",
       "Country        \n",
       "Canada      619"
      ]
     },
     "execution_count": 59,
     "metadata": {},
     "output_type": "execute_result"
    }
   ],
   "source": [
    "data2.groupby('Country').agg({'Remote':'count'}).sort_values('Remote',ascending=True).head(1)"
   ]
  },
  {
   "cell_type": "code",
   "execution_count": 60,
   "id": "6bd8ebbe",
   "metadata": {},
   "outputs": [],
   "source": [
    "##Q9. ____% is the percentage of Mobile Developers in the data."
   ]
  },
  {
   "cell_type": "code",
   "execution_count": 61,
   "id": "bcb8d0b3",
   "metadata": {},
   "outputs": [],
   "source": [
    "mob_dev=data2['Mobile developer']==1"
   ]
  },
  {
   "cell_type": "code",
   "execution_count": 62,
   "id": "8d4c92a5",
   "metadata": {},
   "outputs": [],
   "source": [
    "mobdev=mob_dev.sum()"
   ]
  },
  {
   "cell_type": "code",
   "execution_count": 63,
   "id": "18495a26",
   "metadata": {},
   "outputs": [],
   "source": [
    "total=len(data)"
   ]
  },
  {
   "cell_type": "code",
   "execution_count": 64,
   "id": "f6eafdd9",
   "metadata": {},
   "outputs": [],
   "source": [
    "percentage=(mobdev/total)*100"
   ]
  },
  {
   "cell_type": "code",
   "execution_count": 65,
   "id": "9fed32bc",
   "metadata": {},
   "outputs": [
    {
     "name": "stdout",
     "output_type": "stream",
     "text": [
      "percentage of mobile developers in the data is 0.8649503737912382\n"
     ]
    }
   ],
   "source": [
    "print('percentage of mobile developers in the data is '+str(percentage))"
   ]
  },
  {
   "cell_type": "code",
   "execution_count": 66,
   "id": "7cf4515e",
   "metadata": {},
   "outputs": [],
   "source": [
    "##Q10. ____ is the number of profiles who are Mobile Developers and Web Developers and who work remotely?"
   ]
  },
  {
   "cell_type": "code",
   "execution_count": 67,
   "id": "e0901f7c",
   "metadata": {
    "scrolled": true
   },
   "outputs": [],
   "source": [
    "req_data=data2[(data2['Mobile developer']==1)&(data2['Web developer']==1)&(data2['Remote']=='Remote')].shape[0]"
   ]
  },
  {
   "cell_type": "code",
   "execution_count": 68,
   "id": "30b4a1e4",
   "metadata": {},
   "outputs": [
    {
     "name": "stdout",
     "output_type": "stream",
     "text": [
      "115 is the number of profiles who are mobile developers and web developers and who work remotely\n"
     ]
    }
   ],
   "source": [
    "print(str(req_data)+' is the number of profiles who are mobile developers and web developers and who work remotely')"
   ]
  },
  {
   "cell_type": "code",
   "execution_count": null,
   "id": "6a2dc8fb",
   "metadata": {},
   "outputs": [],
   "source": []
  }
 ],
 "metadata": {
  "kernelspec": {
   "display_name": "Python 3 (ipykernel)",
   "language": "python",
   "name": "python3"
  },
  "language_info": {
   "codemirror_mode": {
    "name": "ipython",
    "version": 3
   },
   "file_extension": ".py",
   "mimetype": "text/x-python",
   "name": "python",
   "nbconvert_exporter": "python",
   "pygments_lexer": "ipython3",
   "version": "3.10.9"
  }
 },
 "nbformat": 4,
 "nbformat_minor": 5
}
